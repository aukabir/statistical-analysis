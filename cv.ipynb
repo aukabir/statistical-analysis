{
  "nbformat": 4,
  "nbformat_minor": 0,
  "metadata": {
    "colab": {
      "provenance": [],
      "authorship_tag": "ABX9TyNexPiIx0im2pNumhCfoEI5"
    },
    "kernelspec": {
      "name": "python3",
      "display_name": "Python 3"
    },
    "language_info": {
      "name": "python"
    }
  },
  "cells": [
    {
      "cell_type": "code",
      "execution_count": 4,
      "metadata": {
        "colab": {
          "base_uri": "https://localhost:8080/"
        },
        "id": "biuUO1J7toMA",
        "outputId": "d48aae8b-f10d-42ae-b358-6ecbf29120d5"
      },
      "outputs": [
        {
          "output_type": "stream",
          "name": "stdout",
          "text": [
            "Coefficient variation of x is 0    49.259218\n",
            "dtype: float64\n",
            "Coefficient variation of y is 0    34.151813\n",
            "dtype: float64\n"
          ]
        }
      ],
      "source": [
        "import pandas as pd\n",
        "x=[30,16,15,10,40,25]\n",
        "y=[70,30,68,46,78,89]\n",
        "xd=pd.DataFrame(x)\n",
        "yd=pd.DataFrame(y)\n",
        "mx=xd.mean()\n",
        "my=yd.mean()\n",
        "sx=xd.std()\n",
        "sy=yd.std()\n",
        "cvx=(sx/mx)*100\n",
        "cvy=(sy/my)*100\n",
        "print(\"Coefficient variation of x is\", cvx)\n",
        "print(\"Coefficient variation of y is\", cvy)"
      ]
    },
    {
      "cell_type": "code",
      "source": [
        "from scipy.stats import pearsonr\n",
        "price=[10,20,30,40,50,60,70]\n",
        "supply=[28,26,23,25,20,20,14]\n",
        "corr, _ = pearsonr(price, supply)\n",
        "print('pearsons correlation: %.3f' % corr)"
      ],
      "metadata": {
        "colab": {
          "base_uri": "https://localhost:8080/"
        },
        "id": "9sm0SAzQuXT4",
        "outputId": "d2943904-a50a-45fd-90ea-0a38ef6c4ee4"
      },
      "execution_count": 6,
      "outputs": [
        {
          "output_type": "stream",
          "name": "stdout",
          "text": [
            "pearsons correlation: -0.933\n"
          ]
        }
      ]
    },
    {
      "cell_type": "markdown",
      "source": [
        "The r value indicates the strong negative correlation among price and supply that if price hikes, supply down and vice versa. "
      ],
      "metadata": {
        "id": "jHjBYiSDuj13"
      }
    }
  ]
}