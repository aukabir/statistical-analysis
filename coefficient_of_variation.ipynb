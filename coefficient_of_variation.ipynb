{
  "nbformat": 4,
  "nbformat_minor": 0,
  "metadata": {
    "colab": {
      "provenance": [],
      "authorship_tag": "ABX9TyMvp+lHfj/chxvrPtE6DoMT"
    },
    "kernelspec": {
      "name": "python3",
      "display_name": "Python 3"
    },
    "language_info": {
      "name": "python"
    }
  },
  "cells": [
    {
      "cell_type": "code",
      "execution_count": 1,
      "metadata": {
        "id": "JIDrIzOBqgyz"
      },
      "outputs": [],
      "source": [
        "import pandas as pd\n"
      ]
    },
    {
      "cell_type": "code",
      "source": [
        "x=[30,16,15,10,40,25]\n",
        "y=[70,30,68,46,78,89]"
      ],
      "metadata": {
        "id": "Iyh7e9UqqtZL"
      },
      "execution_count": 4,
      "outputs": []
    },
    {
      "cell_type": "code",
      "source": [
        "xd=pd.DataFrame(x)\n",
        "yd=pd.DataFrame(y)"
      ],
      "metadata": {
        "id": "cB1yGKV7rEFi"
      },
      "execution_count": 5,
      "outputs": []
    },
    {
      "cell_type": "code",
      "source": [
        "mx=xd.mean()\n",
        "my=yd.mean()"
      ],
      "metadata": {
        "id": "_oOpLCyErLRF"
      },
      "execution_count": 7,
      "outputs": []
    },
    {
      "cell_type": "code",
      "source": [
        "sx=xd.std()\n",
        "sy=yd.std()\n",
        "cvx=(sx/mx)*100\n",
        "cvy=(sy/my)*100"
      ],
      "metadata": {
        "id": "5xpKNnjarUu0"
      },
      "execution_count": 15,
      "outputs": []
    },
    {
      "cell_type": "code",
      "source": [
        "cvx"
      ],
      "metadata": {
        "colab": {
          "base_uri": "https://localhost:8080/"
        },
        "id": "x_TG_Y0pstPP",
        "outputId": "1d88b2bf-077c-47e1-d0f9-6fe4db45af50"
      },
      "execution_count": 21,
      "outputs": [
        {
          "output_type": "execute_result",
          "data": {
            "text/plain": [
              "0    49.259218\n",
              "dtype: float64"
            ]
          },
          "metadata": {},
          "execution_count": 21
        }
      ]
    },
    {
      "cell_type": "code",
      "source": [
        "cvy"
      ],
      "metadata": {
        "colab": {
          "base_uri": "https://localhost:8080/"
        },
        "id": "S9lAKhX0s6Pp",
        "outputId": "d52fefe6-10cb-4b24-bfe1-f0ba5118926a"
      },
      "execution_count": 20,
      "outputs": [
        {
          "output_type": "execute_result",
          "data": {
            "text/plain": [
              "0    34.151813\n",
              "dtype: float64"
            ]
          },
          "metadata": {},
          "execution_count": 20
        }
      ]
    }
  ]
}